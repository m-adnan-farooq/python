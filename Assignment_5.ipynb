{
 "cells": [
  {
   "cell_type": "code",
   "execution_count": 1,
   "metadata": {},
   "outputs": [
    {
     "name": "stdout",
     "output_type": "stream",
     "text": [
      "Please enter a non-negative number to calculate it's factorial5\n",
      "120\n"
     ]
    }
   ],
   "source": [
    "# Question 1\n",
    "\n",
    "def factorialCalc(num):\n",
    "    factorial = 1;\n",
    "    if num <=0:\n",
    "        print('Ivalid number')\n",
    "    else:\n",
    "        for i in range(1,num+1):\n",
    "            factorial = factorial *i    \n",
    "    print(factorial)\n",
    "\n",
    "factorialCalc(num = int(input(\"Please enter a non-negative number to calculate it's factorial\")))"
   ]
  },
  {
   "cell_type": "code",
   "execution_count": 2,
   "metadata": {},
   "outputs": [
    {
     "name": "stdout",
     "output_type": "stream",
     "text": [
      "Please enter the sentence you wanna check for upper and lower case lettersThe Man who Rules the World\n",
      "The upper case letters are 4\n",
      "The lower case letters are 18\n"
     ]
    }
   ],
   "source": [
    "# Question 2\n",
    "def count_up_low(sentence):\n",
    "    low_count = 0\n",
    "    up_count = 0\n",
    "\n",
    "    for words in sentence:\n",
    "        if words.isupper():\n",
    "            up_count += 1\n",
    "        elif words.islower():\n",
    "            low_count += 1\n",
    "    up_count = str(up_count);\n",
    "    low_count = str(low_count);\n",
    "    print('The upper case letters are ' +up_count);\n",
    "    print('The lower case letters are ' +low_count);\n",
    "\n",
    "count_up_low(input('Please enter the sentence you wanna check for upper and lower case letters'))"
   ]
  },
  {
   "cell_type": "code",
   "execution_count": 3,
   "metadata": {},
   "outputs": [
    {
     "name": "stdout",
     "output_type": "stream",
     "text": [
      "2\n",
      "4\n",
      "6\n",
      "8\n",
      "10\n",
      "12\n",
      "14\n",
      "16\n",
      "18\n",
      "20\n"
     ]
    }
   ],
   "source": [
    "#Question 3\n",
    "\n",
    "num = [];\n",
    "for i in range(1,21): #Generating numbers and adding them to list\n",
    "    num.append(i)\n",
    "\n",
    "for i in num:\n",
    "    if i%2 == 0:\n",
    "        print(i)"
   ]
  },
  {
   "cell_type": "code",
   "execution_count": 4,
   "metadata": {},
   "outputs": [
    {
     "name": "stdout",
     "output_type": "stream",
     "text": [
      "Please enter a Word to check if it is a Palindrome or not!Madam\n",
      "The given word is a palindrome\n"
     ]
    }
   ],
   "source": [
    "#Question 4\n",
    "def palindrome(word):\n",
    "    #word = input('Please enter a Word to check if it is a Palindrome or not!');\n",
    "    word = word.lower();\n",
    "    word1=[];\n",
    "    for i in word:\n",
    "        word1.append(i);\n",
    "    palindrome = False;\n",
    "    for i in range(int(len(word1)/2)):\n",
    "        if word1[i]==word1[len(word1)-1]:\n",
    "            print('The given word is a palindrome')\n",
    "            palindrome = True;\n",
    "    if(palindrome!=True):\n",
    "        print('The word is not palindrome')\n",
    "        \n",
    "palindrome(input('Please enter a Word to check if it is a Palindrome or not!'))"
   ]
  },
  {
   "cell_type": "code",
   "execution_count": 5,
   "metadata": {},
   "outputs": [
    {
     "name": "stdout",
     "output_type": "stream",
     "text": [
      "Enter a number to check for prime number25\n",
      "The number is not a prime number\n"
     ]
    }
   ],
   "source": [
    "#Question 5\n",
    "def prime(num):\n",
    "    if (num != 1 and num != 2 and num != 3 and num != 5 and num!= 7 and num%2 == 0 or num%3 == 0 or num%5 == 0 or num%7 == 0):\n",
    "        print('The number is not a prime number')\n",
    "    else:\n",
    "        print('The number is prime number')\n",
    "\n",
    "prime(int(input('Enter a number to check for prime number')));"
   ]
  },
  {
   "cell_type": "code",
   "execution_count": 6,
   "metadata": {},
   "outputs": [
    {
     "name": "stdout",
     "output_type": "stream",
     "text": [
      "Shirt\n",
      "Jeans\n",
      "Jacket\n",
      "Shoes\n"
     ]
    }
   ],
   "source": [
    "#Question 6\n",
    "def shopping(*list):\n",
    "    for i in list:\n",
    "        print(i)\n",
    "\n",
    "shopping('Shirt','Jeans','Jacket','Shoes')"
   ]
  },
  {
   "cell_type": "code",
   "execution_count": null,
   "metadata": {},
   "outputs": [],
   "source": []
  }
 ],
 "metadata": {
  "kernelspec": {
   "display_name": "Python 3",
   "language": "python",
   "name": "python3"
  },
  "language_info": {
   "codemirror_mode": {
    "name": "ipython",
    "version": 3
   },
   "file_extension": ".py",
   "mimetype": "text/x-python",
   "name": "python",
   "nbconvert_exporter": "python",
   "pygments_lexer": "ipython3",
   "version": "3.7.4"
  }
 },
 "nbformat": 4,
 "nbformat_minor": 2
}
