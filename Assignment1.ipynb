{
 "cells": [
  {
   "cell_type": "code",
   "execution_count": 1,
   "metadata": {},
   "outputs": [
    {
     "name": "stdout",
     "output_type": "stream",
     "text": [
      "Twinkle, twinkle, little star,\n",
      "      How I wonder what you are!\n",
      "            Up above the world so high,\n",
      "            Like a diamond in the sky.\n",
      "Twinkle, twinkle, little star,\n",
      "      How I wonder what you are\n"
     ]
    }
   ],
   "source": [
    "#Question 1\n",
    "print('Twinkle, twinkle, little star,')\n",
    "print('      How I wonder what you are!')\n",
    "print('            Up above the world so high,')\n",
    "print('            Like a diamond in the sky.')\n",
    "print('Twinkle, twinkle, little star,')\n",
    "print('      How I wonder what you are')"
   ]
  },
  {
   "cell_type": "code",
   "execution_count": 2,
   "metadata": {},
   "outputs": [
    {
     "name": "stdout",
     "output_type": "stream",
     "text": [
      "3.7.3\n"
     ]
    }
   ],
   "source": [
    "#Question 2\n",
    "\n",
    "from platform import python_version\n",
    "print(python_version())"
   ]
  },
  {
   "cell_type": "code",
   "execution_count": 4,
   "metadata": {},
   "outputs": [
    {
     "name": "stdout",
     "output_type": "stream",
     "text": [
      "2019-11-05 07:43:12.063622\n"
     ]
    }
   ],
   "source": [
    "#Question 3\n",
    "from datetime import datetime\n",
    "print(datetime.now())"
   ]
  },
  {
   "cell_type": "code",
   "execution_count": 5,
   "metadata": {},
   "outputs": [
    {
     "name": "stdout",
     "output_type": "stream",
     "text": [
      "Please enter the radius of a circle2\n",
      "The area of a circle with radius 2 is 12.56636\n"
     ]
    }
   ],
   "source": [
    "#Question 4\n",
    "\n",
    "radius = int(input('Please enter the radius of a circle'));\n",
    "pi = 3.14159;\n",
    "area = str(pi * radius**2);\n",
    "\n",
    "radius = str(radius);\n",
    "print('The area of a circle with radius ' +radius + ' is '+area);"
   ]
  },
  {
   "cell_type": "code",
   "execution_count": 6,
   "metadata": {},
   "outputs": [
    {
     "name": "stdout",
     "output_type": "stream",
     "text": [
      "Please enter your First NameMuhammad\n",
      "Please enter your last NameAdnan\n",
      "['n', 'a', 'n', 'd', 'A', ' ', 'd', 'a', 'm', 'm', 'a', 'h', 'u', 'M']\n"
     ]
    }
   ],
   "source": [
    "#Question 5\n",
    "\n",
    "firstName = input('Please enter your First Name');\n",
    "lastName = input('Please enter your last Name');\n",
    "fullName = firstName +' '+lastName;\n",
    "length = len(fullName);\n",
    "reverse= [];\n",
    "\n",
    "while length>0:\n",
    "    reverse += fullName[length -1]\n",
    "    length -=1\n",
    "print(reverse);"
   ]
  },
  {
   "cell_type": "code",
   "execution_count": 1,
   "metadata": {},
   "outputs": [
    {
     "name": "stdout",
     "output_type": "stream",
     "text": [
      "Enter First Number5\n",
      "Enter Second Number10\n",
      "15\n"
     ]
    }
   ],
   "source": [
    "#Question 6\n",
    "num1 = int(input('Enter First Number'))\n",
    "num2 = int(input('Enter Second Number'))\n",
    "print(num1 + num2)"
   ]
  },
  {
   "cell_type": "code",
   "execution_count": null,
   "metadata": {},
   "outputs": [],
   "source": []
  }
 ],
 "metadata": {
  "kernelspec": {
   "display_name": "Python 3",
   "language": "python",
   "name": "python3"
  },
  "language_info": {
   "codemirror_mode": {
    "name": "ipython",
    "version": 3
   },
   "file_extension": ".py",
   "mimetype": "text/x-python",
   "name": "python",
   "nbconvert_exporter": "python",
   "pygments_lexer": "ipython3",
   "version": "3.7.4"
  }
 },
 "nbformat": 4,
 "nbformat_minor": 2
}
