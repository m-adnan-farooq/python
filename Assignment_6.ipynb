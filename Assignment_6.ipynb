{
 "cells": [
  {
   "cell_type": "markdown",
   "metadata": {},
   "source": [
    "## Question 1\n",
    "### What is Object Oriented Programming\n",
    "\n",
    "###### Object Oriented Programming is a paradigm in which real world objects are each viewed as separate entities having their own state which is modified only by built in procedures, called methods."
   ]
  },
  {
   "cell_type": "markdown",
   "metadata": {},
   "source": [
    "## Question 2\n",
    "\n",
    "### List down the benefits of OOP\n",
    "##### 1. It creates re-usable code\n",
    "##### 2. Software complexity can be managed easily\n",
    "##### 3. It provides a clear modular structure for programs which makes it good for defining abstract datatypes in which implementation details are hidden\n"
   ]
  },
  {
   "cell_type": "markdown",
   "metadata": {},
   "source": [
    "## Question 3\n",
    "#### Differentiate between function and method\n",
    "\n",
    "##### Python method is called on an object, unlike a function. Since we call a method on an object, it can access the data within it. A method may alter an object's state, but Python function usually only operates on it, and then prints something or returns a value."
   ]
  },
  {
   "cell_type": "markdown",
   "metadata": {},
   "source": [
    "## Question 4\n",
    "#### Define the following terms\n",
    "\n",
    "##### Class\n",
    "###### It is an abstract, a template or a blue print about the capability of what an object can do. When class is defined,  only the description for the object is defined. Therefore, no memory or storage is allocated. \n",
    "\n",
    "##### Object\n",
    "###### An object is an instantiation of a class.  An object represents an entity in the real world that can be distinctly identified. For example, a student, a desk, a circle, a button, and even a loan can all be viewed as objects. An object has a unique identity, state, and behavior.\n",
    "\n",
    "#### Attribute\n",
    "##### It is the individual data/object being stored based on the class\n",
    "\n",
    "##### Behaviour\n",
    "###### Actions that will be performed by the object is know as it's behaviour. Behaviour is defined by methods."
   ]
  },
  {
   "cell_type": "code",
   "execution_count": 13,
   "metadata": {},
   "outputs": [
    {
     "name": "stdout",
     "output_type": "stream",
     "text": [
      "Toyota Vitz 2015 Black\n",
      "2019\n",
      "Toyota is not the best car\n",
      "\n",
      "\n",
      "Audi A8 2019 Black\n",
      "2015\n",
      "Audi is the best car\n"
     ]
    }
   ],
   "source": [
    "# Question 5\n",
    "\n",
    "class Car():\n",
    "    def __init__ (self,company,model,year,color,sunRoof):\n",
    "        self.company = company\n",
    "        self.model = model\n",
    "        self.year = year\n",
    "        self.color = color\n",
    "        self.sunRoof = sunRoof\n",
    "    \n",
    "    def details(self):\n",
    "        print(self.company,self.model,self.year,self.color)\n",
    "    \n",
    "    def updateYear(self,newYear):\n",
    "        self.year = newYear\n",
    "    \n",
    "    def bestCar(self):\n",
    "        if (self.company == 'Audi'):\n",
    "            print(self.company + ' is the best car')\n",
    "        else:\n",
    "            print(self.company + ' is not the best car')\n",
    "\n",
    "car1 = Car('Toyota','Vitz', 2015, 'Black', 'No');\n",
    "car2 = Car('Suzuki','Cultus', 2019, 'White', 'No');\n",
    "car3 = Car('Honda','Civic', 2019, 'Red','Yes');\n",
    "car4 = Car('Audi', 'A8', 2019, 'Black', 'Yes');\n",
    "car5 = Car('Kia', 'Picanto', 2019, 'Blue', 'No');\n",
    "\n",
    "car1.details()\n",
    "car1.updateYear(2019)\n",
    "print(car1.year)\n",
    "car1.bestCar()\n",
    "\n",
    "print('\\n')\n",
    "\n",
    "car4.details()\n",
    "car4.updateYear(2015)\n",
    "print(car4.year)\n",
    "car4.bestCar()"
   ]
  },
  {
   "cell_type": "code",
   "execution_count": null,
   "metadata": {},
   "outputs": [],
   "source": []
  }
 ],
 "metadata": {
  "kernelspec": {
   "display_name": "Python 3",
   "language": "python",
   "name": "python3"
  },
  "language_info": {
   "codemirror_mode": {
    "name": "ipython",
    "version": 3
   },
   "file_extension": ".py",
   "mimetype": "text/x-python",
   "name": "python",
   "nbconvert_exporter": "python",
   "pygments_lexer": "ipython3",
   "version": "3.7.4"
  }
 },
 "nbformat": 4,
 "nbformat_minor": 2
}
