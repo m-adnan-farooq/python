{
 "cells": [
  {
   "cell_type": "code",
   "execution_count": 1,
   "metadata": {},
   "outputs": [
    {
     "name": "stdout",
     "output_type": "stream",
     "text": [
      "first_name : Muhammad Adnan\n",
      "last_name : Farooq\n",
      "age : 31\n",
      "city : Karachi\n",
      "{'first_name': 'Muhammad Adnan', 'last_name': 'Farooq', 'age': '31', 'city': 'Karachi', 'qualification': 'Matriculation'}\n",
      "{'first_name': 'Muhammad Adnan', 'last_name': 'Farooq', 'age': '31', 'city': 'Karachi', 'qualification': 'high academic level'}\n",
      "{'first_name': 'Muhammad Adnan', 'last_name': 'Farooq', 'age': '31', 'city': 'Karachi'}\n"
     ]
    }
   ],
   "source": [
    "#Question 1\n",
    "\n",
    "info = {'first_name':\"Muhammad Adnan\", 'last_name':\"Farooq\",'age':'31','city':\"Karachi\"}\n",
    "for key,value in info.items():\n",
    "    print(key + \" : \" + value)\n",
    "info['qualification'] = \"Matriculation\"\n",
    "print(info)\n",
    "info['qualification'] = \"high academic level\"\n",
    "print(info)\n",
    "del info['qualification']\n",
    "print(info)"
   ]
  },
  {
   "cell_type": "code",
   "execution_count": 2,
   "metadata": {},
   "outputs": [
    {
     "name": "stdout",
     "output_type": "stream",
     "text": [
      "Islamabad\n",
      "{'Country': 'Pakistan', 'Population': '1.1 million', 'Fact': 'Islamabad is the capital of Pakistan'}\n",
      "Paris\n",
      "{'Country': 'France', 'Population': '2.14 million', 'Fact': 'Paris is the capital of France'}\n",
      "Buenos Aires\n",
      "{'Country': 'Argentina', 'Population': '2.89 million', 'Fact': 'Buenos Aires is the capital of Argentina'}\n"
     ]
    }
   ],
   "source": [
    "#Question 2\n",
    "\n",
    "cities = {'Islamabad':{'Country':'Pakistan','Population':'1.1 million', 'Fact': 'Islamabad is the capital of Pakistan'}, \n",
    "          'Paris':{'Country':'France','Population':'2.14 million', 'Fact': 'Paris is the capital of France'},\n",
    "         'Buenos Aires':{'Country':'Argentina','Population':'2.89 million', 'Fact': 'Buenos Aires is the capital of Argentina'}}\n",
    "\n",
    "#print(cities)\n",
    "for key,value in cities.items():\n",
    "    print(key)\n",
    "    print(value)"
   ]
  },
  {
   "cell_type": "code",
   "execution_count": 4,
   "metadata": {},
   "outputs": [
    {
     "name": "stdout",
     "output_type": "stream",
     "text": [
      "Please enter your age2\n",
      "Ticket not required\n",
      "Please enter your age3\n",
      "The ticket is 10$\n",
      "Please enter your age12\n",
      "The ticket is 10$\n",
      "Please enter your age15\n",
      "The ticket is 15$\n",
      "Please enter your age0\n",
      "Ticket not required\n"
     ]
    }
   ],
   "source": [
    "#Question 3\n",
    "age = 1;\n",
    "while age != 0:\n",
    "    age = int(input(\"Please enter your age\"));\n",
    "    if age<3:\n",
    "        print('Ticket not required')\n",
    "    elif age>=3 and age<=12:\n",
    "        print('The ticket is 10$')\n",
    "    else:\n",
    "        print('The ticket is 15$')\n",
    "    "
   ]
  },
  {
   "cell_type": "code",
   "execution_count": 5,
   "metadata": {},
   "outputs": [
    {
     "name": "stdout",
     "output_type": "stream",
     "text": [
      "One of my favorite book is Smarter Way to learn Python\n"
     ]
    }
   ],
   "source": [
    "#Question 4\n",
    "def favorite_book(title):\n",
    "    print('One of my favorite book is ' + title)\n",
    "    \n",
    "favorite_book('Smarter Way to learn Python')"
   ]
  },
  {
   "cell_type": "code",
   "execution_count": 6,
   "metadata": {},
   "outputs": [
    {
     "name": "stdout",
     "output_type": "stream",
     "text": [
      "Please enter a Number15\n",
      "Your guess is too high.\n",
      "Please enter a Number10\n",
      "Your guess is too high.\n",
      "Please enter a Number5\n",
      "Your guess is too high.\n",
      "You guessed an incorrect number. The actual number is 2.\n"
     ]
    }
   ],
   "source": [
    "#Question 5\n",
    "import random\n",
    "\n",
    "number = random.randint(1, 30)\n",
    "\n",
    "for i in range(3):\n",
    "    guess = int(input(\"Please enter a Number\"))\n",
    "\n",
    "    if guess < number:\n",
    "        print('Your guess is too low.') \n",
    "    elif guess > number:\n",
    "        print('Your guess is too high.')\n",
    "\n",
    "    elif guess == number:\n",
    "        print('You have guessed the correct number')\n",
    "        break\n",
    "\n",
    "if guess != number:\n",
    "    number = str(number)\n",
    "    print('You guessed an incorrect number. The actual number is ' + number + '.')"
   ]
  },
  {
   "cell_type": "code",
   "execution_count": null,
   "metadata": {},
   "outputs": [],
   "source": []
  }
 ],
 "metadata": {
  "kernelspec": {
   "display_name": "Python 3",
   "language": "python",
   "name": "python3"
  },
  "language_info": {
   "codemirror_mode": {
    "name": "ipython",
    "version": 3
   },
   "file_extension": ".py",
   "mimetype": "text/x-python",
   "name": "python",
   "nbconvert_exporter": "python",
   "pygments_lexer": "ipython3",
   "version": "3.7.4"
  }
 },
 "nbformat": 4,
 "nbformat_minor": 2
}
