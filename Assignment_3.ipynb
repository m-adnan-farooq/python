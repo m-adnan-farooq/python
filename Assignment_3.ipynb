{
 "cells": [
  {
   "cell_type": "code",
   "execution_count": 2,
   "metadata": {},
   "outputs": [
    {
     "name": "stdout",
     "output_type": "stream",
     "text": [
      "Enter first Value5\n",
      "Enter Second Value2\n",
      "Enter Operator**\n",
      "25\n"
     ]
    }
   ],
   "source": [
    "#Task1\n",
    "val1 = int(input('Enter first Value'))\n",
    "val2= int(input('Enter Second Value'))\n",
    "oper = input('Enter Operator')\n",
    "\n",
    "if oper == '+':\n",
    "    val = val1 + val2\n",
    "    print(val)\n",
    "elif oper == '-':\n",
    "    val = val1 - val2\n",
    "    print(val)\n",
    "elif oper == '*':\n",
    "    val = val1 * val2\n",
    "    print(val)\n",
    "elif oper == '/':\n",
    "    val = val1 / val2\n",
    "    print(val)\n",
    "elif oper == '**':\n",
    "    val = val1 ** val2\n",
    "    print(val)\n",
    "else:\n",
    "    print('Enter Correct Operator')"
   ]
  },
  {
   "cell_type": "code",
   "execution_count": 3,
   "metadata": {},
   "outputs": [
    {
     "name": "stdout",
     "output_type": "stream",
     "text": [
      "['1', '2', '3', '4']\n"
     ]
    }
   ],
   "source": [
    "#Task 2\n",
    "\n",
    "mylist=['1','orange','2','3','4','apple']\n",
    "\n",
    "mynewlist = [s for s in mylist if s.isdigit()]\n",
    "print(mynewlist)"
   ]
  },
  {
   "cell_type": "code",
   "execution_count": 4,
   "metadata": {},
   "outputs": [
    {
     "name": "stdout",
     "output_type": "stream",
     "text": [
      "{'Name': 'Adnan', 'Class': 'Python Programming', 'Age': 25, 'Father Name': 'Farooq'}\n"
     ]
    }
   ],
   "source": [
    "#Task 3\n",
    "student = {'Name':'Adnan', 'Class':'Python Programming','Age': 25}\n",
    "student['Father Name'] = 'Farooq' #Adding new key to dictionary(student)\n",
    "print(student)"
   ]
  },
  {
   "cell_type": "code",
   "execution_count": 5,
   "metadata": {},
   "outputs": [
    {
     "name": "stdout",
     "output_type": "stream",
     "text": [
      "15\n"
     ]
    }
   ],
   "source": [
    "#Task 4\n",
    "\n",
    "list_1 = [1,2,3,4,5]\n",
    "sum_1 = sum(list_1)\n",
    "print(sum_1)"
   ]
  },
  {
   "cell_type": "code",
   "execution_count": 6,
   "metadata": {},
   "outputs": [
    {
     "name": "stdout",
     "output_type": "stream",
     "text": [
      "[1, 3, 5, 6]\n"
     ]
    }
   ],
   "source": [
    "# Task 5\n",
    "dupList = [1, 3, 5, 6, 3, 5, 6, 1]\n",
    "unique = [] \n",
    "for i in dupList: \n",
    "    if i not in unique: \n",
    "        unique.append(i)\n",
    "print(unique)"
   ]
  },
  {
   "cell_type": "code",
   "execution_count": 8,
   "metadata": {},
   "outputs": [
    {
     "name": "stdout",
     "output_type": "stream",
     "text": [
      "Please enter key to checkb\n",
      "Key is available in the dictionary\n"
     ]
    }
   ],
   "source": [
    "#Task 6\n",
    "dict = {'a': 10, 'b': 20, 'c': 30, 'd': 40, 'e': 50, 'f': 60}\n",
    "key = input('Please enter key to check')\n",
    "\n",
    "if key in dict:\n",
    "    print('Key is available in the dictionary')\n",
    "else:\n",
    "    print('Key is not available in the dictionary')"
   ]
  },
  {
   "cell_type": "code",
   "execution_count": null,
   "metadata": {},
   "outputs": [],
   "source": []
  }
 ],
 "metadata": {
  "kernelspec": {
   "display_name": "Python 3",
   "language": "python",
   "name": "python3"
  },
  "language_info": {
   "codemirror_mode": {
    "name": "ipython",
    "version": 3
   },
   "file_extension": ".py",
   "mimetype": "text/x-python",
   "name": "python",
   "nbconvert_exporter": "python",
   "pygments_lexer": "ipython3",
   "version": "3.7.4"
  }
 },
 "nbformat": 4,
 "nbformat_minor": 2
}
