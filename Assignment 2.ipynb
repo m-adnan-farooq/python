{
 "cells": [
  {
   "cell_type": "code",
   "execution_count": 5,
   "metadata": {},
   "outputs": [
    {
     "name": "stdout",
     "output_type": "stream",
     "text": [
      "Please enter marks obtained in Mathematics90\n",
      "Please enter marks obtained in Chemistry8\n",
      "Please enter marks obtained in Physics80\n",
      "Please enter marks obtained in Urdu80\n",
      "Please enter marks obtained in Islamiat80\n",
      "You have obtained 338 Marks\n",
      "You have obtained B-Grade\n"
     ]
    }
   ],
   "source": [
    "# Question 1\n",
    "\n",
    "maths = int(input(\"Please enter marks obtained in Mathematics\"))\n",
    "chemistry = int(input(\"Please enter marks obtained in Chemistry\"))\n",
    "physics = int(input(\"Please enter marks obtained in Physics\"))\n",
    "urdu = int(input(\"Please enter marks obtained in Urdu\"))\n",
    "islam = int(input(\"Please enter marks obtained in Islamiat\"))\n",
    "\n",
    "total1 = (maths + chemistry + physics + urdu + islam)\n",
    "print(f\"You have obtained total {total1} Marks\")\n",
    "total = (maths + chemistry + physics + urdu + islam)/5\n",
    "\n",
    "\n",
    "if total>80 and total<=100:\n",
    "    print(\"You have obtained A1-Grade\")\n",
    "elif total>70 and total<=80:\n",
    "    print(\"You have obtained A-Grade\")\n",
    "elif total>60 and total<=70:\n",
    "    print(\"You have obtained B-Grade\")\n",
    "elif total>50 and total<=60:\n",
    "    print(\"You have obtained C-Grade\")\n",
    "elif total>100:\n",
    "    print(\"Invalid data\")\n",
    "else:\n",
    "    print(\"You have Failed\")"
   ]
  },
  {
   "cell_type": "code",
   "execution_count": 7,
   "metadata": {},
   "outputs": [
    {
     "name": "stdout",
     "output_type": "stream",
     "text": [
      "Please enter a number to see whether the number is even or odd90\n",
      "The given number is even\n"
     ]
    }
   ],
   "source": [
    "#Question 2\n",
    "num = int(input(\"Please enter a number to see whether the number is even or odd\"))\n",
    "\n",
    "if num%2==0:\n",
    "    print(\"The given number is even\")\n",
    "else:\n",
    "    print(\"The given number is odd\")"
   ]
  },
  {
   "cell_type": "code",
   "execution_count": 13,
   "metadata": {},
   "outputs": [
    {
     "name": "stdout",
     "output_type": "stream",
     "text": [
      "6\n"
     ]
    }
   ],
   "source": [
    "#Question 3\n",
    "\n",
    "list = [23,43,12,34,54,\"Hello\"]\n",
    "print(len(list))"
   ]
  },
  {
   "cell_type": "code",
   "execution_count": 11,
   "metadata": {},
   "outputs": [
    {
     "name": "stdout",
     "output_type": "stream",
     "text": [
      "166\n"
     ]
    }
   ],
   "source": [
    "#Question 4\n",
    "\n",
    "list = [23,43,12,34,54]\n",
    "print(sum(list))"
   ]
  },
  {
   "cell_type": "code",
   "execution_count": 26,
   "metadata": {},
   "outputs": [
    {
     "name": "stdout",
     "output_type": "stream",
     "text": [
      "54\n"
     ]
    }
   ],
   "source": [
    "#Question 5\n",
    "list = [23,43,12,34,54]\n",
    "largest = 0\n",
    "\n",
    "for i in list:\n",
    "    if i>largest:\n",
    "        largest = i\n",
    "\n",
    "print(max)"
   ]
  },
  {
   "cell_type": "code",
   "execution_count": 28,
   "metadata": {},
   "outputs": [
    {
     "name": "stdout",
     "output_type": "stream",
     "text": [
      "1\n",
      "1\n",
      "2\n",
      "3\n"
     ]
    }
   ],
   "source": [
    "#Question 6\n",
    "a = [1, 1, 2, 3, 5, 8, 13, 21, 34, 55, 89]\n",
    "\n",
    "for i in a:\n",
    "    if i<5:\n",
    "        print(i)"
   ]
  },
  {
   "cell_type": "code",
   "execution_count": null,
   "metadata": {},
   "outputs": [],
   "source": []
  }
 ],
 "metadata": {
  "kernelspec": {
   "display_name": "Python 3",
   "language": "python",
   "name": "python3"
  },
  "language_info": {
   "codemirror_mode": {
    "name": "ipython",
    "version": 3
   },
   "file_extension": ".py",
   "mimetype": "text/x-python",
   "name": "python",
   "nbconvert_exporter": "python",
   "pygments_lexer": "ipython3",
   "version": "3.7.4"
  }
 },
 "nbformat": 4,
 "nbformat_minor": 2
}
